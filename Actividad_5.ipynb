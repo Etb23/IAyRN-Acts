{
  "nbformat": 4,
  "nbformat_minor": 0,
  "metadata": {
    "colab": {
      "provenance": [],
      "authorship_tag": "ABX9TyNeOsQuOJQofzQHsahEtEln",
      "include_colab_link": true
    },
    "kernelspec": {
      "name": "python3",
      "display_name": "Python 3"
    },
    "language_info": {
      "name": "python"
    }
  },
  "cells": [
    {
      "cell_type": "markdown",
      "metadata": {
        "id": "view-in-github",
        "colab_type": "text"
      },
      "source": [
        "<a href=\"https://colab.research.google.com/github/Etb23/IAyRN-Acts/blob/main/Actividad_5.ipynb\" target=\"_parent\"><img src=\"https://colab.research.google.com/assets/colab-badge.svg\" alt=\"Open In Colab\"/></a>"
      ]
    },
    {
      "cell_type": "code",
      "execution_count": 6,
      "metadata": {
        "colab": {
          "base_uri": "https://localhost:8080/"
        },
        "id": "CURL1f6Dg-Tq",
        "outputId": "6d3de119-67eb-4343-e053-a83bc762838f"
      },
      "outputs": [
        {
          "output_type": "stream",
          "name": "stdout",
          "text": [
            "Por favor, ingresa tu nombre: Ana\n",
            "Lo siento, no te puedo saludar.\n"
          ]
        }
      ],
      "source": [
        "nombre = input(\"Por favor, ingresa tu nombre: \")\n",
        "nombres_excluidos = [\"Ana\", \"Juan\", \"Pedro\"]\n",
        "if nombre in nombres_excluidos:\n",
        "    print(\"Lo siento, no te puedo saludar.\")\n",
        "else:\n",
        "    print(f\"Hola, {nombre}!\")"
      ]
    },
    {
      "cell_type": "code",
      "source": [
        "def invertir_lista():\n",
        "    n = int(input(\"¿Cuántos elementos quieres en la lista? \"))\n",
        "    lista = []\n",
        "    for i in range(n):\n",
        "        elemento = input(f\"Ingrese el elemento {i + 1}: \")\n",
        "        lista.append(elemento)\n",
        "    lista_invertida = lista[::-1]\n",
        "    print(\"La lista invertida es:\", lista_invertida)\n",
        "invertir_lista()"
      ],
      "metadata": {
        "colab": {
          "base_uri": "https://localhost:8080/"
        },
        "id": "JDv6KvofiG3l",
        "outputId": "2223e431-9d21-4177-9178-0ade451dd8a8"
      },
      "execution_count": 9,
      "outputs": [
        {
          "output_type": "stream",
          "name": "stdout",
          "text": [
            "¿Cuántos elementos quieres en la lista? 5\n",
            "Ingrese el elemento 1: 4\n",
            "Ingrese el elemento 2: 5\n",
            "Ingrese el elemento 3: 2\n",
            "Ingrese el elemento 4: 6\n",
            "Ingrese el elemento 5: 1\n",
            "La lista invertida es: ['1', '6', '2', '5', '4']\n"
          ]
        }
      ]
    },
    {
      "cell_type": "code",
      "source": [
        "def fibonacci():\n",
        "    n = int(input(\"¿Cuántos números de la serie quieres generar? \"))\n",
        "    fib = [0, 1]\n",
        "\n",
        "    for i in range(2, n):\n",
        "        fib.append(fib[-1] + fib[-2])\n",
        "\n",
        "    print(f\"Los primeros {n} números de la serie de Fibonacci son:\", fib[:n])\n",
        "\n",
        "fibonacci()"
      ],
      "metadata": {
        "colab": {
          "base_uri": "https://localhost:8080/"
        },
        "id": "X3wSfwTppfGS",
        "outputId": "5fe05c7a-114f-4bb1-ff9c-af8f386d17ef"
      },
      "execution_count": 10,
      "outputs": [
        {
          "output_type": "stream",
          "name": "stdout",
          "text": [
            "¿Cuántos números de la serie de Fibonacci quieres generar? 4\n",
            "Los primeros 4 números de la serie de Fibonacci son: [0, 1, 1, 2]\n"
          ]
        }
      ]
    },
    {
      "cell_type": "code",
      "source": [
        "import random\n",
        "\n",
        "def adivinar_numero():\n",
        "    numero_secreto = random.randint(1, 100)\n",
        "    intento = None\n",
        "\n",
        "    while intento != numero_secreto:\n",
        "        intento = int(input(\"Adivina el número entre 1 y 100: \"))\n",
        "        if intento < numero_secreto:\n",
        "            print(\"El número es mayor.\")\n",
        "        elif intento > numero_secreto:\n",
        "            print(\"El número es menor.\")\n",
        "\n",
        "    print(\"¡Felicidades! Adivinaste el número.\")\n",
        "\n",
        "adivinar_numero()"
      ],
      "metadata": {
        "colab": {
          "base_uri": "https://localhost:8080/"
        },
        "id": "N3eiXqJnpmdi",
        "outputId": "62c11bf7-aee8-4c81-d9ef-5cfaf7255a6a"
      },
      "execution_count": 11,
      "outputs": [
        {
          "output_type": "stream",
          "name": "stdout",
          "text": [
            "Adivina el número entre 1 y 100: 50\n",
            "El número es menor.\n",
            "Adivina el número entre 1 y 100: 40\n",
            "El número es menor.\n",
            "Adivina el número entre 1 y 100: 30\n",
            "El número es mayor.\n",
            "Adivina el número entre 1 y 100: 35\n",
            "El número es menor.\n",
            "Adivina el número entre 1 y 100: 34\n",
            "¡Felicidades! Adivinaste el número.\n"
          ]
        }
      ]
    },
    {
      "cell_type": "code",
      "source": [
        "def es_primo(num):\n",
        "    if num < 2:\n",
        "        return False\n",
        "    for i in range(2, int(num**0.5) + 1):\n",
        "        if num % i == 0:\n",
        "            return False\n",
        "    return True\n",
        "\n",
        "def mostrar_primos():\n",
        "    inicio = int(input(\"Ingresa el número de inicio del rango: \"))\n",
        "    fin = int(input(\"Ingresa el número de fin del rango: \"))\n",
        "\n",
        "    primos = []\n",
        "    for num in range(inicio, fin + 1):\n",
        "        if es_primo(num):\n",
        "            primos.append(num)\n",
        "\n",
        "    print(f\"Números primos en el rango de {inicio} a {fin}: {primos}\")\n",
        "\n",
        "mostrar_primos()"
      ],
      "metadata": {
        "colab": {
          "base_uri": "https://localhost:8080/"
        },
        "id": "jk_YP57jp5S5",
        "outputId": "7a9c2b81-b8a5-438b-a7ad-b0c357277047"
      },
      "execution_count": 12,
      "outputs": [
        {
          "output_type": "stream",
          "name": "stdout",
          "text": [
            "Ingresa el número de inicio del rango: 1\n",
            "Ingresa el número de fin del rango: 9\n",
            "Números primos en el rango de 1 a 9: [2, 3, 5, 7]\n"
          ]
        }
      ]
    },
    {
      "cell_type": "code",
      "source": [
        "def suma(a, b):\n",
        "    return a + b\n",
        "\n",
        "def resta(a, b):\n",
        "    return a - b\n",
        "\n",
        "def multiplicacion(a, b):\n",
        "    return a * b3\n",
        "\n",
        "def division(a, b):\n",
        "    if b != 0:\n",
        "        return a / b\n",
        "    else:\n",
        "        return \"No se puede dividir entre cero.\"\n",
        "\n",
        "def calculadora():\n",
        "    num1 = float(input(\"Ingresa el primer número: \"))\n",
        "    num2 = float(input(\"Ingresa el segundo número: \"))\n",
        "\n",
        "    print(f\"Suma: {suma(num1, num2)}\")\n",
        "    print(f\"Resta: {resta(num1, num2)}\")\n",
        "    print(f\"Multiplicación: {multiplicacion(num1, num2)}\")\n",
        "    print(f\"División: {division(num1, num2)}\")\n",
        "\n",
        "calculadora()"
      ],
      "metadata": {
        "colab": {
          "base_uri": "https://localhost:8080/"
        },
        "id": "228ZnW7nqE0K",
        "outputId": "0ad036fc-d7f0-45e4-dfc0-4120d75c489e"
      },
      "execution_count": 13,
      "outputs": [
        {
          "output_type": "stream",
          "name": "stdout",
          "text": [
            "Ingresa el primer número: 5\n",
            "Ingresa el segundo número: 5\n",
            "Suma: 10.0\n",
            "Resta: 0.0\n",
            "Multiplicación: 25.0\n",
            "División: 1.0\n"
          ]
        }
      ]
    }
  ]
}